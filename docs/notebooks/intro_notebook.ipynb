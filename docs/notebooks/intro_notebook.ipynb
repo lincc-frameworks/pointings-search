{
 "cells": [
  {
   "cell_type": "markdown",
   "id": "accepting-editor",
   "metadata": {
    "cell_marker": "\"\"\""
   },
   "source": [
    "# Pointings-Search\n",
    "\n",
    "The pointings-search library is an example library of how we can quickly search for geocentric pointings that would see an object with a given barycentric position. Before running this demo make sure to install the development dependencies of pointing-search `pip install .[dev]`"
   ]
  },
  {
   "cell_type": "code",
   "execution_count": null,
   "id": "actual-thirty",
   "metadata": {},
   "outputs": [],
   "source": [
    "import matplotlib.pyplot as plt\n",
    "import numpy as np\n",
    "\n",
    "import astropy.units as u\n",
    "from astropy.coordinates import (\n",
    "    SkyCoord,\n",
    "    SphericalRepresentation,\n",
    "    get_body_barycentric,\n",
    ")\n",
    "from astropy.time import Time\n",
    "\n",
    "from pointings_search.pointing_table import PointingTable"
   ]
  },
  {
   "cell_type": "markdown",
   "id": "coral-upper",
   "metadata": {
    "cell_marker": "\"\"\"",
    "lines_to_next_cell": 1
   },
   "source": [
    "## PointingTable\n",
    "\n",
    "The main data structure for pointings-search is a PointingTable which holds information about the geocentric pointings. Each pointing is given by a RA, dec, and time:"
   ]
  },
  {
   "cell_type": "code",
   "execution_count": null,
   "id": "funded-protection",
   "metadata": {
    "lines_to_next_cell": 1
   },
   "outputs": [],
   "source": [
    "data_dict = {\n",
    "    \"obsid\": [i for i in range(7)],\n",
    "    \"ra\": [0.0, 90.0, 45.0, 90.0, 270.0, 223.6095, 223.6095],\n",
    "    \"dec\": [0.0, 90.0, 0.0, 45.0, 0.0, -16.6230, -16.6230],\n",
    "    \"obstime\": [60261.0, 60281.1, 60241.2, 60211.3, 60291.4, 60253.1, 60353.1],\n",
    "    \"fileloc\": [f\"./here{i}.txt\" for i in range(7)],\n",
    "}\n",
    "data = PointingTable.from_dict(data_dict)\n",
    "print(data.pointings)"
   ]
  },
  {
   "cell_type": "markdown",
   "id": "thorough-cutting",
   "metadata": {
    "cell_marker": "\"\"\""
   },
   "source": [
    "We can use helper functions to augment the table with unit vectors indicating the pointing directions and earth's position at each of the observation times."
   ]
  },
  {
   "cell_type": "code",
   "execution_count": null,
   "id": "imported-uruguay",
   "metadata": {},
   "outputs": [],
   "source": [
    "data.preprocess_pointing_info()\n",
    "data.append_earth_pos()\n",
    "print(data.pointings)"
   ]
  },
  {
   "cell_type": "markdown",
   "id": "2a8306e1",
   "metadata": {},
   "source": [
    "We can plot the various earth positions and pointings in 3-d. The blue dots represent the position of the Earth at the times in the table. The black lines are the pointing vectors. The yellow do is the position of the sun.\n",
    "\n",
    "We can extend the diagram by including Mars' at MJD=60253.1 as a red dot. We start by using astropy's `get_body_barycentric()` function to compute approximate barycentric position of both Mars in 3-d cartesian space."
   ]
  },
  {
   "cell_type": "code",
   "execution_count": null,
   "id": "18f02f7b",
   "metadata": {},
   "outputs": [],
   "source": [
    "def plot_pointings(ax, data):\n",
    "    \"\"\"Plot the 3d pointings on a given axis.\"\"\"\n",
    "    for i in range(len(data.pointings)):\n",
    "        ax.plot(\n",
    "            [\n",
    "                data.pointings[\"earth_vec_x\"][i],\n",
    "                data.pointings[\"earth_vec_x\"][i] + data.pointings[\"unit_vec_x\"][i] * 0.1,\n",
    "            ],\n",
    "            [\n",
    "                data.pointings[\"earth_vec_y\"][i],\n",
    "                data.pointings[\"earth_vec_y\"][i] + data.pointings[\"unit_vec_y\"][i] * 0.1,\n",
    "            ],\n",
    "            [\n",
    "                data.pointings[\"earth_vec_z\"][i],\n",
    "                data.pointings[\"earth_vec_z\"][i] + data.pointings[\"unit_vec_z\"][i] * 0.1,\n",
    "            ],\n",
    "            color=\"black\",\n",
    "        )\n",
    "\n",
    "        # Plot the earth locations\n",
    "        ax.plot(\n",
    "            data.pointings[\"earth_vec_x\"][i],\n",
    "            data.pointings[\"earth_vec_y\"][i],\n",
    "            data.pointings[\"earth_vec_z\"][i],\n",
    "            marker=\".\",\n",
    "            markersize=5,\n",
    "            color=\"blue\",\n",
    "        )\n",
    "\n",
    "        # Plot the sun\n",
    "        ax.plot(0, 0, 0, marker=\".\", markersize=10, color=\"yellow\")\n",
    "\n",
    "\n",
    "mars_pos_bary = get_body_barycentric(\"mars\", Time(60253.1, format=\"mjd\"))\n",
    "print(f\"Mars' barycentric position {mars_pos_bary}\")\n",
    "\n",
    "ax2 = plt.figure().add_subplot(projection=\"3d\")\n",
    "plot_pointings(ax2, data)\n",
    "ax2.plot(\n",
    "    mars_pos_bary.x.value, mars_pos_bary.y.value, mars_pos_bary.z.value, marker=\".\", markersize=4, color=\"red\"\n",
    ")\n",
    "\n",
    "plt.show()"
   ]
  },
  {
   "cell_type": "markdown",
   "id": "c3d9fcbe",
   "metadata": {},
   "source": [
    "We can compute the angular distance from the heliocentric viewing directions to the target of interest (3-d in heliocentric space) using vector algebra. First we start by converting Mars' cartesian coordinates into spherical coordinates, then we use `PointingTable`'s `search_heliocentric_pointing()` function."
   ]
  },
  {
   "cell_type": "code",
   "execution_count": null,
   "id": "1480e1f7",
   "metadata": {},
   "outputs": [],
   "source": [
    "ang_dist = data.angular_dist_3d_heliocentric(\n",
    "    [\n",
    "        mars_pos_bary.x.value,\n",
    "        mars_pos_bary.y.value,\n",
    "        mars_pos_bary.z.value,\n",
    "    ]\n",
    ")\n",
    "print(f\"Raw distances (degrees) = {ang_dist}\\n\")\n",
    "\n",
    "# Compute Mars' position as viewed from the barycenter.\n",
    "mars_coords = SkyCoord(SphericalRepresentation.from_cartesian(mars_pos_bary))\n",
    "print(f\"Mars' barycentric coordinates: {mars_coords}\\n\")\n",
    "\n",
    "# Define the position in terms of RA, dec, and distance.\n",
    "mars_vec = SkyCoord(ra=mars_coords.ra, dec=mars_coords.dec, distance=mars_coords.distance)\n",
    "matches = data.search_heliocentric_pointing(mars_vec, 1.0)\n",
    "print(matches)"
   ]
  },
  {
   "cell_type": "markdown",
   "id": "a4d47ecd",
   "metadata": {},
   "source": [
    "## Proposing Pointings\n",
    "\n",
    "While the `PointingTable` allows us to compute whether a specific object is in view, it does not help us determine which locations we could search. The `search_algorithms.py` file contains a variety of algorithms that we could use to propose potential search locations.\n",
    "\n",
    "We start by setting up a limited set of pointings to test."
   ]
  },
  {
   "cell_type": "code",
   "execution_count": null,
   "id": "940a9cc9",
   "metadata": {},
   "outputs": [],
   "source": [
    "ras = []\n",
    "decs = []\n",
    "obstimes = []\n",
    "obstime = 60253.1\n",
    "for r in np.linspace(45.0, 85.0, 10):\n",
    "    for d in np.linspace(-55.0, -50.0, 10):\n",
    "        ras.append(r)\n",
    "        decs.append(d)\n",
    "        obstimes.append(obstime)\n",
    "        obstime += 0.05\n",
    "\n",
    "data_dict = {\n",
    "    \"ra\": ras,\n",
    "    \"dec\": decs,\n",
    "    \"obstime\": obstimes,\n",
    "    \"fov\": [3.0] * len(ras),\n",
    "    \"id\": [i for i in range(len(ras))],\n",
    "}\n",
    "data = PointingTable.from_dict(data_dict)"
   ]
  },
  {
   "cell_type": "markdown",
   "id": "83496326",
   "metadata": {},
   "source": [
    "### Grid Search (with Distance)\n",
    "\n",
    "A distance-based grid search will search a uniform grid around the sun with predefined minimum and maximum distance from the baycenter. The red dots represent all the points considered as a potential location and the green dots indicate those which have sufficient number of images (at least 5)."
   ]
  },
  {
   "cell_type": "code",
   "execution_count": null,
   "id": "e038cab2",
   "metadata": {},
   "outputs": [],
   "source": [
    "from pointings_search.search_algorithms import distance_grid_search\n",
    "\n",
    "results = distance_grid_search(data, num_steps=20, min_images=0, max_results=1e6)\n",
    "\n",
    "ax3 = plt.figure().add_subplot(projection=\"3d\")\n",
    "plot_pointings(ax3, data)\n",
    "for res in results:\n",
    "    if res[0] >= 5:\n",
    "        ax3.plot(res[1][0], res[1][1], res[1][2], marker=\".\", markersize=3, color=\"green\")\n",
    "    else:\n",
    "        ax3.plot(res[1][0], res[1][1], res[1][2], marker=\".\", markersize=1, color=\"red\")\n",
    "plt.show()"
   ]
  },
  {
   "cell_type": "markdown",
   "id": "55604356",
   "metadata": {},
   "source": [
    "### Grid Search (from projection)\n",
    "\n",
    "We can do a better job searching by using the geocentric pointings to project fake points into 3-d space and use those to define the bounds of our grid. This focuses the grid on areas of the sky that could actually have a match."
   ]
  },
  {
   "cell_type": "code",
   "execution_count": null,
   "id": "c86906cc",
   "metadata": {},
   "outputs": [],
   "source": [
    "from pointings_search.search_algorithms import helio_project_grid_search\n",
    "\n",
    "results = helio_project_grid_search(data, num_steps=10, est_distance=10.0, min_images=0, max_results=1e6)\n",
    "\n",
    "ax4 = plt.figure().add_subplot(projection=\"3d\")\n",
    "plot_pointings(ax4, data)\n",
    "for res in results:\n",
    "    if res[0] >= 5:\n",
    "        ax4.plot(res[1][0], res[1][1], res[1][2], marker=\".\", markersize=3, color=\"green\")\n",
    "    else:\n",
    "        ax4.plot(res[1][0], res[1][1], res[1][2], marker=\".\", markersize=1, color=\"red\")\n",
    "plt.show()"
   ]
  },
  {
   "cell_type": "markdown",
   "id": "6925b5ca",
   "metadata": {},
   "source": [
    "### Projection Search\n",
    "\n",
    "Alternately we could just project the geocentric pointings to project fake points into 3-d space and use points directly for our search. This search is particulay useful for large distances."
   ]
  },
  {
   "cell_type": "code",
   "execution_count": null,
   "id": "53e9f5e4",
   "metadata": {},
   "outputs": [],
   "source": [
    "from pointings_search.search_algorithms import helio_project_search\n",
    "\n",
    "results = helio_project_search(data, est_distance=10.0, min_images=0, max_results=1e6)\n",
    "\n",
    "ax4 = plt.figure().add_subplot(projection=\"3d\")\n",
    "plot_pointings(ax4, data)\n",
    "for res in results:\n",
    "    if res[0] >= 5:\n",
    "        ax4.plot(res[1][0], res[1][1], res[1][2], marker=\".\", markersize=3, color=\"green\")\n",
    "    else:\n",
    "        ax4.plot(res[1][0], res[1][1], res[1][2], marker=\".\", markersize=1, color=\"red\")\n",
    "plt.show()"
   ]
  },
  {
   "cell_type": "code",
   "execution_count": null,
   "id": "5c648002",
   "metadata": {},
   "outputs": [],
   "source": []
  }
 ],
 "metadata": {
  "jupytext": {
   "cell_markers": "\"\"\""
  },
  "kernelspec": {
   "display_name": "Python (.conda-pointings)",
   "language": "python",
   "name": "conda-env-.conda-pointings-py"
  },
  "language_info": {
   "codemirror_mode": {
    "name": "ipython",
    "version": 3
   },
   "file_extension": ".py",
   "mimetype": "text/x-python",
   "name": "python",
   "nbconvert_exporter": "python",
   "pygments_lexer": "ipython3",
   "version": "3.11.6"
  }
 },
 "nbformat": 4,
 "nbformat_minor": 5
}
