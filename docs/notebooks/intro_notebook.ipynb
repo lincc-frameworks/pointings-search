{
 "cells": [
  {
   "cell_type": "markdown",
   "id": "accepting-editor",
   "metadata": {
    "cell_marker": "\"\"\""
   },
   "source": [
    "# Pointings-Search\n",
    "\n",
    "The pointings-search library is an example library of how we can quickly search for geocentric pointings that would see an object with a given barycentric position. Before running this demo make sure to install the development dependencies of pointing-search `pip install .[dev]`"
   ]
  },
  {
   "cell_type": "code",
   "execution_count": null,
   "id": "actual-thirty",
   "metadata": {},
   "outputs": [],
   "source": [
    "import matplotlib.pyplot as plt\n",
    "import numpy as np\n",
    "\n",
    "import astropy.units as u\n",
    "from astropy.coordinates import (\n",
    "    SkyCoord,\n",
    "    SphericalRepresentation,\n",
    "    get_body_barycentric,\n",
    ")\n",
    "from astropy.time import Time\n",
    "\n",
    "from pointings_search.pointing_table import PointingTable"
   ]
  },
  {
   "cell_type": "markdown",
   "id": "coral-upper",
   "metadata": {
    "cell_marker": "\"\"\"",
    "lines_to_next_cell": 1
   },
   "source": [
    "The main data structure for pointings-search is a PointingTable which holds information about the geocentric pointings. Each pointing is given by a RA, dec, and time:"
   ]
  },
  {
   "cell_type": "code",
   "execution_count": null,
   "id": "funded-protection",
   "metadata": {
    "lines_to_next_cell": 1
   },
   "outputs": [],
   "source": [
    "data_dict = {\n",
    "    \"obsid\": [i for i in range(7)],\n",
    "    \"ra\": [0.0, 90.0, 45.0, 90.0, 270.0, 223.6095, 223.6095],\n",
    "    \"dec\": [0.0, 90.0, 0.0, 45.0, 0.0, -16.6230, -16.6230],\n",
    "    \"obstime\": [60261.0, 60281.1, 60241.2, 60211.3, 60291.4, 60253.1, 60353.1],\n",
    "    \"fileloc\": [f\"./here{i}.txt\" for i in range(7)],\n",
    "}\n",
    "data = PointingTable.from_dict(data_dict)\n",
    "print(data.pointings)"
   ]
  },
  {
   "cell_type": "markdown",
   "id": "thorough-cutting",
   "metadata": {
    "cell_marker": "\"\"\""
   },
   "source": [
    "We can use helper functions to augment the table with unit vectors indicating the pointing directions and earth's position at each of the observation times."
   ]
  },
  {
   "cell_type": "code",
   "execution_count": null,
   "id": "imported-uruguay",
   "metadata": {},
   "outputs": [],
   "source": [
    "data.preprocess_pointing_info()\n",
    "data.append_earth_pos()\n",
    "print(data.pointings)"
   ]
  },
  {
   "cell_type": "markdown",
   "id": "2a8306e1",
   "metadata": {},
   "source": [
    "We can plot the various earth positions and pointings in 3-d."
   ]
  },
  {
   "cell_type": "code",
   "execution_count": null,
   "id": "18f02f7b",
   "metadata": {},
   "outputs": [],
   "source": [
    "ax = plt.figure().add_subplot(projection=\"3d\")\n",
    "\n",
    "for i in range(len(data.pointings)):\n",
    "    ax.plot(\n",
    "        [\n",
    "            data.pointings[\"earth_vec_x\"][i],\n",
    "            data.pointings[\"earth_vec_x\"][i] + data.pointings[\"unit_vec_x\"][i] * 0.1,\n",
    "        ],\n",
    "        [\n",
    "            data.pointings[\"earth_vec_y\"][i],\n",
    "            data.pointings[\"earth_vec_y\"][i] + data.pointings[\"unit_vec_y\"][i] * 0.1,\n",
    "        ],\n",
    "        [\n",
    "            data.pointings[\"earth_vec_z\"][i],\n",
    "            data.pointings[\"earth_vec_z\"][i] + data.pointings[\"unit_vec_z\"][i] * 0.1,\n",
    "        ],\n",
    "        color=\"black\",\n",
    "    )\n",
    "\n",
    "    ax.plot(\n",
    "        data.pointings[\"earth_vec_x\"][i],\n",
    "        data.pointings[\"earth_vec_y\"][i],\n",
    "        data.pointings[\"earth_vec_z\"][i],\n",
    "        marker=\".\",\n",
    "        markersize=5,\n",
    "        color=\"blue\",\n",
    "    )\n",
    "\n",
    "ax.plot(0, 0, 0, marker=\".\", markersize=10, color=\"yellow\")\n",
    "\n",
    "plt.show()"
   ]
  },
  {
   "cell_type": "markdown",
   "id": "0a63990a",
   "metadata": {},
   "source": [
    "We can extend the diagram by including Mars' at MJD=60253.1. We start by using astropy's `get_body_barycentric()` function to compute approximate barycentric position of both Mars in 3-d cartesian space."
   ]
  },
  {
   "cell_type": "code",
   "execution_count": null,
   "id": "e5705d9f",
   "metadata": {},
   "outputs": [],
   "source": [
    "mars_pos_bary = get_body_barycentric(\"mars\", Time(60253.1, format=\"mjd\"))\n",
    "print(f\"Mars' barycentric position {mars_pos_bary}\")\n",
    "\n",
    "ax2 = plt.figure().add_subplot(projection=\"3d\")\n",
    "\n",
    "for i in range(len(data.pointings)):\n",
    "    ax2.plot(\n",
    "        [\n",
    "            data.pointings[\"earth_vec_x\"][i],\n",
    "            data.pointings[\"earth_vec_x\"][i] + data.pointings[\"unit_vec_x\"][i] * 0.1,\n",
    "        ],\n",
    "        [\n",
    "            data.pointings[\"earth_vec_y\"][i],\n",
    "            data.pointings[\"earth_vec_y\"][i] + data.pointings[\"unit_vec_y\"][i] * 0.1,\n",
    "        ],\n",
    "        [\n",
    "            data.pointings[\"earth_vec_z\"][i],\n",
    "            data.pointings[\"earth_vec_z\"][i] + data.pointings[\"unit_vec_z\"][i] * 0.1,\n",
    "        ],\n",
    "        color=\"black\",\n",
    "    )\n",
    "\n",
    "    ax2.plot(\n",
    "        data.pointings[\"earth_vec_x\"][i],\n",
    "        data.pointings[\"earth_vec_y\"][i],\n",
    "        data.pointings[\"earth_vec_z\"][i],\n",
    "        marker=\".\",\n",
    "        markersize=5,\n",
    "        color=\"blue\",\n",
    "    )\n",
    "\n",
    "ax2.plot(0, 0, 0, marker=\".\", markersize=10, color=\"yellow\")\n",
    "ax2.plot(\n",
    "    mars_pos_bary.x.value, mars_pos_bary.y.value, mars_pos_bary.z.value, marker=\".\", markersize=4, color=\"red\"\n",
    ")\n",
    "\n",
    "plt.show()"
   ]
  },
  {
   "cell_type": "markdown",
   "id": "c3d9fcbe",
   "metadata": {},
   "source": [
    "We can compute the angular distance from the heliocentric viewing directions to the target of interest (3-d in heliocentric space) using vector algebra. First we start by converting Mars' cartesian coordinates into spherical coordinates, then we use `PointingTable`'s `search_heliocentric_pointing()` function."
   ]
  },
  {
   "cell_type": "code",
   "execution_count": null,
   "id": "1480e1f7",
   "metadata": {},
   "outputs": [],
   "source": [
    "ang_dist = data.angular_dist_3d_heliocentric(\n",
    "    [\n",
    "        mars_pos_bary.x.value,\n",
    "        mars_pos_bary.y.value,\n",
    "        mars_pos_bary.z.value,\n",
    "    ]\n",
    ")\n",
    "print(f\"Raw distances (degrees) = {ang_dist}\\n\")\n",
    "\n",
    "# Compute Mars' position as viewed from the barycenter.\n",
    "mars_coords = SkyCoord(SphericalRepresentation.from_cartesian(mars_pos_bary))\n",
    "print(f\"Mars' barycentric coordinates: {mars_coords}\\n\")\n",
    "\n",
    "# Define the position in terms of RA, dec, and distance.\n",
    "mars_vec = SkyCoord(ra=mars_coords.ra, dec=mars_coords.dec, distance=mars_coords.distance)\n",
    "matches = data.search_heliocentric_pointing(mars_vec, 1.0)\n",
    "print(matches)"
   ]
  },
  {
   "cell_type": "code",
   "execution_count": null,
   "id": "54057722",
   "metadata": {},
   "outputs": [],
   "source": []
  }
 ],
 "metadata": {
  "jupytext": {
   "cell_markers": "\"\"\""
  },
  "kernelspec": {
   "display_name": "Python (.conda-pointings)",
   "language": "python",
   "name": "conda-env-.conda-pointings-py"
  },
  "language_info": {
   "codemirror_mode": {
    "name": "ipython",
    "version": 3
   },
   "file_extension": ".py",
   "mimetype": "text/x-python",
   "name": "python",
   "nbconvert_exporter": "python",
   "pygments_lexer": "ipython3",
   "version": "3.11.6"
  }
 },
 "nbformat": 4,
 "nbformat_minor": 5
}
